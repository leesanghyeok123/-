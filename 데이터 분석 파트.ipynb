{
 "cells": [
  {
   "cell_type": "code",
   "execution_count": 2,
   "id": "e0087bf0-794c-42c5-992b-9ab0b8f874d6",
   "metadata": {},
   "outputs": [
    {
     "name": "stdout",
     "output_type": "stream",
     "text": [
      "year\n",
      "2000     4.0:7.0\n",
      "2001     4.0:0.0\n",
      "2002     4.0:8.0\n",
      "2003     4.0:2.0\n",
      "2004    3.0:54.0\n",
      "2005    3.0:54.0\n",
      "2006    3.0:50.0\n",
      "2007    3.0:54.0\n",
      "2008    3.0:51.0\n",
      "2009    3.0:55.0\n",
      "2010    3.0:45.0\n",
      "2011    3.0:51.0\n",
      "2012    3.0:47.0\n",
      "2013    3.0:50.0\n",
      "2014    3.0:46.0\n",
      "2015    3.0:39.0\n",
      "2016    3.0:39.0\n",
      "2017    3.0:39.0\n",
      "2018    3.0:30.0\n",
      "2019    3.0:18.0\n",
      "2020    3.0:17.0\n",
      "2021    3.0:16.0\n",
      "2022    3.0:14.0\n",
      "2023    3.0:16.0\n",
      "Name: duration_ms, dtype: object\n"
     ]
    }
   ],
   "source": [
    "import pandas as pd\n",
    "\n",
    "file_name = 'playlist_2010to2023.xlsx'\n",
    "df = pd.read_excel(file_name, index_col='year', usecols='A:G')\n",
    "\n",
    "average_duration_ms = df.groupby('year')['duration_ms'].mean()\n",
    "\n",
    "def ms_to_time(ms):\n",
    "    m = ms // 60000  \n",
    "    s = (ms % 60000) // 1000  \n",
    "    return str(m).zfill(2) + \":\" + str(s).zfill(2)\n",
    "\n",
    "average_duration_time = average_duration_ms.apply(ms_to_time)\n",
    "\n",
    "print(average_duration_time)"
   ]
  },
  {
   "cell_type": "code",
   "execution_count": 2,
   "id": "f73352a3-5e60-4894-b092-5373756634ef",
   "metadata": {},
   "outputs": [
    {
     "name": "stdout",
     "output_type": "stream",
     "text": [
      "year\n",
      "2000    3.0:49.0\n",
      "2001     4.0:8.0\n",
      "2002    4.0:29.0\n",
      "2003     4.0:8.0\n",
      "2004    3.0:36.0\n",
      "2005    3.0:48.0\n",
      "2006     4.0:4.0\n",
      "2007    3.0:56.0\n",
      "2008    3.0:53.0\n",
      "2009    3.0:47.0\n",
      "2010    3.0:50.0\n",
      "2011    3.0:58.0\n",
      "2012    3.0:54.0\n",
      "2013    3.0:50.0\n",
      "2014    3.0:48.0\n",
      "2015    3.0:44.0\n",
      "2016    3.0:30.0\n",
      "2017    3.0:43.0\n",
      "2018    3.0:43.0\n",
      "2019    3.0:21.0\n",
      "2020    3.0:19.0\n",
      "2021    3.0:18.0\n",
      "2022    3.0:10.0\n",
      "2023    2.0:57.0\n",
      "dtype: object\n"
     ]
    }
   ],
   "source": [
    "import pandas as pd\n",
    "\n",
    "df = pd.read_excel('playlist_2010to2023.xlsx', index_col='year', usecols='A:G')\n",
    "\n",
    "df['track_popularity'] = pd.to_numeric(df['track_popularity'], errors='coerce')\n",
    "\n",
    "def ms_to_time(ms):\n",
    "    m = ms // 60000  \n",
    "    s = (ms % 60000) // 1000  \n",
    "    return str(m).zfill(2) + \":\" + str(s).zfill(2)\n",
    "\n",
    "def calculate_top10_avg_duration(df):\n",
    "    years = df.index.unique()\n",
    "    top10_avg_duration = []\n",
    "    for year in years:\n",
    "        year_df = df.loc[year]\n",
    "        top10 = year_df.nlargest(10, 'track_popularity')\n",
    "        avg_duration = top10['duration_ms'].mean()\n",
    "        top10_avg_duration.append(avg_duration)\n",
    "    return pd.Series(top10_avg_duration, index=years)\n",
    "\n",
    "top10_avg_duration = calculate_top10_avg_duration(df)\n",
    "\n",
    "top10_avg_duration_time = top10_avg_duration.apply(ms_to_time)\n",
    "\n",
    "print(top10_avg_duration_time)"
   ]
  },
  {
   "cell_type": "code",
   "execution_count": 7,
   "id": "e62c2d4b-4b06-4ea4-ab71-b8ae778e7542",
   "metadata": {},
   "outputs": [
    {
     "name": "stdout",
     "output_type": "stream",
     "text": [
      "year\n",
      "2021     3.0:20.0\n",
      "2021     3.0:58.0\n",
      "2021     2.0:54.0\n",
      "2021     3.0:35.0\n",
      "2021     3.0:49.0\n",
      "2021     2.0:52.0\n",
      "2021     2.0:55.0\n",
      "2021     4.0:58.0\n",
      "2021     3.0:31.0\n",
      "2021    10.0:13.0\n",
      "Name: duration_ms, dtype: object\n"
     ]
    }
   ],
   "source": [
    "import pandas as pd\n",
    "\n",
    "df = pd.read_excel('playlist_2010to2023.xlsx', index_col='year', usecols='A:F')\n",
    "\n",
    "df['track_popularity'] = pd.to_numeric(df['track_popularity'], errors='coerce')\n",
    "\n",
    "def ms_to_time(ms):\n",
    "    m = ms // 60000  \n",
    "    s = (ms % 60000) // 1000  \n",
    "    return str(m).zfill(2) + \":\" + str(s).zfill(2)\n",
    "\n",
    "def top10_duration_2021(df):\n",
    "    year_2021_df = df.loc[2021]\n",
    "    top10_2021 = year_2021_df.nlargest(10, 'track_popularity')\n",
    "    top10_duration = top10_2021['duration_ms'].apply(ms_to_time)\n",
    "    return top10_duration\n",
    "\n",
    "top10_duration_2021_list = top10_duration_2021(df)\n",
    "print(top10_duration_2021_list)"
   ]
  }
 ],
 "metadata": {
  "kernelspec": {
   "display_name": "Python 3 (ipykernel)",
   "language": "python",
   "name": "python3"
  },
  "language_info": {
   "codemirror_mode": {
    "name": "ipython",
    "version": 3
   },
   "file_extension": ".py",
   "mimetype": "text/x-python",
   "name": "python",
   "nbconvert_exporter": "python",
   "pygments_lexer": "ipython3",
   "version": "3.12.4"
  }
 },
 "nbformat": 4,
 "nbformat_minor": 5
}
